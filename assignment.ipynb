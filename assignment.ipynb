{
 "cells": [
  {
   "cell_type": "markdown",
   "id": "bd5dcf13-22ff-439c-ace2-00674eaca1d7",
   "metadata": {},
   "source": [
    "# ASSINGNMENT_1"
   ]
  },
  {
   "cell_type": "markdown",
   "id": "af2c1984-7f52-442b-91e3-909c918f2349",
   "metadata": {},
   "source": [
    "1. In the below elements which of them are values or an expression? eg:- values can be integer or string and expressions will be mathematical operators.\n",
    "\n",
    "(*)       :- expression \n",
    "\n",
    "'hello' :- value\n",
    "\n",
    "-87.8   :- value\n",
    "\n",
    "(-)       :- expression\n",
    "\n",
    "/       :- expression\n",
    "\n",
    "(+)       :- expression\n",
    "\n",
    "6       :- value\n"
   ]
  },
  {
   "cell_type": "markdown",
   "id": "0927be77-0ef4-46d1-8952-bbc17e47f516",
   "metadata": {},
   "source": [
    "2. What is the difference between string and variable?\n",
    "\n",
    "ANS:- Variable is name of location of memory which hold the value assigned to it. It can hold values of different data type such as numeric and alphabets.\n",
    "  \n",
    "  String is a type of data which can be assigned to variable. While assigning it is written between Quotation mark(\"_\")."
   ]
  },
  {
   "cell_type": "markdown",
   "id": "c2b7f2bb-99f7-4c81-8a13-04ce00532c36",
   "metadata": {},
   "source": [
    "3. Describe three different data types.\n",
    "ANS:- \n",
    "\n",
    "Numeric:- Numeric data types are integer such as (1,-1,0). They can be also be in decimal format called as float integer.\n",
    "  \n",
    "Text:- it is character in alphabet or number which are written withing \"_\" also know as string.\n",
    "\n",
    "Boolean Type: True and False are two boolean type."
   ]
  },
  {
   "cell_type": "markdown",
   "id": "0983daab-526b-4d03-8b1b-28411d655d40",
   "metadata": {},
   "source": [
    "4. What is an expression made up of? What do all expressions do?\n",
    "\n",
    "ANS:- Expression are made up of arithmetic operators, values and variables. Expression performs logical operations to form a single value."
   ]
  },
  {
   "cell_type": "markdown",
   "id": "c7768f6b-560e-430a-b745-d09ed369a32b",
   "metadata": {},
   "source": [
    "5. This assignment statements, like spam = 10. What is the difference between an expression and a statement?\n",
    "\n",
    "ANS:-  Expression is a collection of symbols that jointly express a quantity.It produces atleat one value.\n",
    "\n",
    "Statement:- In computer programming a statement can be thought of as the smallest standalone element of an imperative programming language. A program is formed by a sequence of one or more statements."
   ]
  },
  {
   "cell_type": "markdown",
   "id": "f6891240-4fbc-4fe2-94f7-8df9c7445b7f",
   "metadata": {},
   "source": [
    "6. After running the following code, what does the variable bacon contain?\n",
    "bacon = 22\n",
    "bacon + 1\n",
    "\n",
    "ANS:- 22\n"
   ]
  },
  {
   "cell_type": "markdown",
   "id": "01827831-bafc-4344-b714-ddce03fd3ddd",
   "metadata": {},
   "source": [
    "7. What should the values of the following two terms be?\n",
    "\n",
    "'spam' + 'spamspam' :- 'spamspamspam'\n",
    "\n",
    "'spam' * 3          :- 'spamspamspam'\n"
   ]
  },
  {
   "cell_type": "markdown",
   "id": "bc8103f5-5190-4def-bcd0-d0b1b3cf6cab",
   "metadata": {},
   "source": [
    "8. Why is eggs a valid variable name while 100 is invalid?\n",
    "\n",
    "ANS:- Variable always starts with alphabetic character. Hence, 100 is invalid variable name."
   ]
  },
  {
   "cell_type": "markdown",
   "id": "784b0bfe-0f69-496d-931a-887571e931c5",
   "metadata": {},
   "source": [
    "9. What three functions can be used to get the integer, floating-point number, or string version of a value?\n",
    "\n",
    "int() to get integer.\n",
    "\n",
    "float() to get floating point number.\n",
    "\n",
    "str() to get string."
   ]
  },
  {
   "cell_type": "markdown",
   "id": "0bd6c859-ceb3-48c6-9b9b-c51c1a758761",
   "metadata": {},
   "source": [
    "10. Why does this expression cause an error? How can you fix it?\n",
    "'I have eaten ' + 99 + ' burritos.'\n",
    "\n",
    "ANS:- ('+') operator can only concate either string or integer but cannot concate string to integer.\n",
    "\n"
   ]
  },
  {
   "cell_type": "code",
   "execution_count": null,
   "id": "b92abfb1-8388-42e8-a50b-ffae57b72db3",
   "metadata": {},
   "outputs": [],
   "source": []
  }
 ],
 "metadata": {
  "kernelspec": {
   "display_name": "Python 3",
   "language": "python",
   "name": "python3"
  },
  "language_info": {
   "codemirror_mode": {
    "name": "ipython",
    "version": 3
   },
   "file_extension": ".py",
   "mimetype": "text/x-python",
   "name": "python",
   "nbconvert_exporter": "python",
   "pygments_lexer": "ipython3",
   "version": "3.8.8"
  }
 },
 "nbformat": 4,
 "nbformat_minor": 5
}
