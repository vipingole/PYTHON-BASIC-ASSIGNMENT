{
 "cells": [
  {
   "cell_type": "markdown",
   "id": "bd5dcf13-22ff-439c-ace2-00674eaca1d7",
   "metadata": {},
   "source": [
    "# ASSINGNMENT_1"
   ]
  },
  {
   "cell_type": "raw",
   "id": "8e9a1c45-f947-404f-9e42-725646e3eddd",
   "metadata": {},
   "source": [
    "1. In the below elements which of them are values or an expression? eg:- values can be integer or string and expressions will be mathematical operators.\n",
    "*       :- expression \n",
    "'hello' :- value\n",
    "-87.8   :- value\n",
    "-       :- expression\n",
    "/       :- expression\n",
    "+       :- expression\n",
    "6       :- value\n"
   ]
  },
  {
   "cell_type": "raw",
   "id": "163e71dc-b0be-4b18-853b-e07e3965143b",
   "metadata": {},
   "source": [
    "2. What is the difference between string and variable?\n",
    "ANS:- Variable is name of location of memory which hold the value assigned to it. It can hold values of different data type such as numeric and alphabets.\n",
    "  String is a type of data which can be assigned to variable. While assigning it is written between Quotation mark(\"_\")."
   ]
  },
  {
   "cell_type": "raw",
   "id": "a206d928-2024-4520-ae4f-8217fef80529",
   "metadata": {},
   "source": [
    "3. Describe three different data types.\n",
    "ANS:- Numeric:- Numeric data types are integer such as (1,-1,0). They can be also be in decimal format called as float integer.\n",
    "  Text:- it is character in alphabet or number which are written withing \"_\" also know as string.\n",
    "  Boolean Type: True and False are two boolean type."
   ]
  },
  {
   "cell_type": "raw",
   "id": "0ad85d6a-e051-49b9-83bb-53a7f8bc9bc9",
   "metadata": {},
   "source": [
    "4. What is an expression made up of? What do all expressions do?\n",
    "ANS:- Expression are made up of arithmetic operators, values and variables. Expression performs logical operations to form a single value."
   ]
  },
  {
   "cell_type": "raw",
   "id": "d0c40112-0035-4142-b8ab-af16201c309f",
   "metadata": {},
   "source": [
    "5. This assignment statements, like spam = 10. What is the difference between an expression and a statement?\n",
    "ANS:-  Expression a collection of symbols that jointly express a quantity.It produces atleat one value.\n",
    "Statement:- In computer programming a statement can be thought of as the smallest standalone element of an imperative programming language. A program is formed by a sequence of one or more statements."
   ]
  },
  {
   "cell_type": "raw",
   "id": "d2e75775-f1a7-4384-98d5-40f6b05d2523",
   "metadata": {},
   "source": [
    "6. After running the following code, what does the variable bacon contain?\n",
    "bacon = 22\n",
    "bacon + 1\n",
    "ANS:- 22\n"
   ]
  },
  {
   "cell_type": "raw",
   "id": "5e81549a-bb0f-489b-a418-1277422584c6",
   "metadata": {},
   "source": [
    "7. What should the values of the following two terms be?\n",
    "'spam' + 'spamspam' :- 'spamspamspam'\n",
    "'spam' * 3          :- 'spamspamspam'\n"
   ]
  },
  {
   "cell_type": "raw",
   "id": "547c754f-dacd-46a0-a115-107c088aaa03",
   "metadata": {},
   "source": [
    "8. Why is eggs a valid variable name while 100 is invalid?\n",
    "ANS:- Variable always starts with alphabetic character. Hence, 100 is invalid variable name."
   ]
  },
  {
   "cell_type": "raw",
   "id": "701bfbbb-8944-48b6-984d-136ca56be333",
   "metadata": {},
   "source": [
    "9. What three functions can be used to get the integer, floating-point number, or string version of a value?\n",
    "ANS:- int() to get integer\n",
    "      float() to get floating point number\n",
    "      str() to get string "
   ]
  },
  {
   "cell_type": "raw",
   "id": "027de413-ee0a-4f5f-89c9-e41c81832f01",
   "metadata": {},
   "source": [
    "10. Why does this expression cause an error? How can you fix it?\n",
    "'I have eaten ' + 99 + ' burritos.'\n",
    "ANS:- ('+') operator can only concate either string or integer but cannot concate string to integer.\n",
    "\n"
   ]
  },
  {
   "cell_type": "code",
   "execution_count": null,
   "id": "b92abfb1-8388-42e8-a50b-ffae57b72db3",
   "metadata": {},
   "outputs": [],
   "source": []
  }
 ],
 "metadata": {
  "kernelspec": {
   "display_name": "Python 3",
   "language": "python",
   "name": "python3"
  },
  "language_info": {
   "codemirror_mode": {
    "name": "ipython",
    "version": 3
   },
   "file_extension": ".py",
   "mimetype": "text/x-python",
   "name": "python",
   "nbconvert_exporter": "python",
   "pygments_lexer": "ipython3",
   "version": "3.8.8"
  }
 },
 "nbformat": 4,
 "nbformat_minor": 5
}
