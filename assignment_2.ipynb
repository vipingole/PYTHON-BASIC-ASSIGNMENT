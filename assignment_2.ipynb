{
 "cells": [
  {
   "cell_type": "markdown",
   "id": "c361eafe-2675-4fc2-85f1-ba7cd6da8780",
   "metadata": {},
   "source": [
    "1.What are the two values of the Boolean data type? How do you write them?\n",
    "\n",
    "ANS: True and False are two values of boolean data type.\n",
    "\n",
    "2.What are the three different types of Boolean operators?\n",
    "\n",
    "ANS: AND, OR and NOT are the three different types of boolean operators.\n",
    "\n",
    "3.Make a list of each Boolean operator's truth tables (i.e. every possible combination of Boolean values for the operator and what it evaluate ).\n",
    "\n",
    "|   A   |   B   | 'AND' RESULT  | 'OR' RESULT |\n",
    "| ----- | ----- | ----- | ----- |\n",
    "| TRUE  | TRUE  | TRUE | TRUE |\n",
    "| TRUE  | FALSE | FALSE | TRUE |\n",
    "| FALSE | TRUE  | FALSE | TRUE |\n",
    "| FALSE | FALSE | FALSE | FALSE |\n",
    "\n",
    "| A | 'NOT' RESULT|\n",
    "| ---| -- |\n",
    "| TRUE | FALSE |\n",
    "| FALSE | TRUE |\n",
    "\n",
    "4.What are the values of the following expressions?\n",
    "\n",
    "(5 > 4) and (3 == 5) : FALSE\n",
    "\n",
    "not (5 > 4) : FALSE\n",
    "\n",
    "(5 > 4) or (3 == 5): TRUE\n",
    "\n",
    "not ((5 > 4) or (3 == 5)): TRUE\n",
    "\n",
    "(True and True) and (True == False): FALSE\n",
    "\n",
    "(not False) or (not True) : TRUE\n",
    "\n",
    "5.What are the six comparison operators?\n",
    "\n",
    "ANS: >, <, ==, >=, <= and != .\n",
    "\n",
    "6.How do you tell the difference between the equal to and assignment operators?Describe a condition and when you would use one.\n",
    "\n",
    "ANS: Single equal to sign (=) mean its an assignment operators, it is use to assign value to a variable. Double equal to sign (==) means comparsion operator to compair the value of variable. \n",
    "\n",
    "7.Identify the three blocks in this code:\n",
    "\n",
    "spam = 0\n",
    "\n",
    "BLOCK 1\n",
    "\n",
    "if spam == 10:\n",
    "print('eggs')\n",
    "\n",
    "BLOCK 2\n",
    "\n",
    "if spam > 5:\n",
    "print('bacon')\n",
    "\n",
    "BLOCK 3\n",
    "\n",
    "else:\n",
    "print('ham')\n",
    "print('spam')\n",
    "print('spam')\n"
   ]
  },
  {
   "cell_type": "markdown",
   "id": "d573e1e8-ea9a-4a2b-87ad-616d3ade6491",
   "metadata": {},
   "source": [
    "8.Write code that prints Hello if 1 is stored in spam, prints Howdy if 2 is stored in spam, and prints Greetings! if anything else is stored in spam."
   ]
  },
  {
   "cell_type": "code",
   "execution_count": 3,
   "id": "cbf08b2d-4609-4bdf-b1b1-c42bdaa6cb73",
   "metadata": {},
   "outputs": [
    {
     "name": "stdin",
     "output_type": "stream",
     "text": [
      " 2\n"
     ]
    },
    {
     "name": "stdout",
     "output_type": "stream",
     "text": [
      "Howdy\n"
     ]
    }
   ],
   "source": [
    "spam = int(input())\n",
    "if spam == 1:\n",
    "    print('Hello')\n",
    "elif spam == 2:\n",
    "    print('Howdy')\n",
    "else :\n",
    "    print('Greetings!')"
   ]
  },
  {
   "cell_type": "markdown",
   "id": "7d37aa1f-116f-48a6-ab5a-e4b7350f041c",
   "metadata": {},
   "source": [
    "9.If your programme is stuck in an endless loop, what keys you’ll press?\n",
    "\n",
    "ANS: press CTRL + C .\n",
    "\n",
    "10.How can you tell the difference between break and continue?\n",
    "\n",
    "ANS: \n",
    "- The break statement terminates the loop containing it. Control of the program flows to the statement immediately after the body of the loop.\n",
    "- The continue statement is used to skip the rest of the code inside a loop for the current iteration only. Loop does not terminate but continues on with the next iteration.\n",
    "\n",
    "11.In a for loop, what is the difference between range(10), range(0, 10), and range(0, 10, 1)?\n",
    "\n",
    "ANS: syntax :- for range(start, end, step_size)\n",
    "- In range(10) for loop will loop from 0 to 9. \n",
    "- In range(0, 10) it will loop form 0 to 9.\n",
    "- In range(0, 10) it will loop from 0 to 9\n"
   ]
  },
  {
   "cell_type": "markdown",
   "id": "621408ad-d1ed-4bdf-b231-20ba84160174",
   "metadata": {},
   "source": [
    "12.Write a short program that prints the numbers 1 to 10 using a for loop. Then write an equivalent program that prints the numbers 1 to 10 using a while loop.\n"
   ]
  },
  {
   "cell_type": "code",
   "execution_count": 1,
   "id": "66146106-cc8e-44c7-b51b-99d1e6874226",
   "metadata": {},
   "outputs": [
    {
     "name": "stdout",
     "output_type": "stream",
     "text": [
      "1\n",
      "2\n",
      "3\n",
      "4\n",
      "5\n",
      "6\n",
      "7\n",
      "8\n",
      "9\n",
      "10\n"
     ]
    }
   ],
   "source": [
    "for i in range(1,11):\n",
    "    print(i)"
   ]
  },
  {
   "cell_type": "code",
   "execution_count": 2,
   "id": "a949fbca-95f8-4fb8-9ec1-24dfa24f1efc",
   "metadata": {},
   "outputs": [
    {
     "name": "stdout",
     "output_type": "stream",
     "text": [
      "1\n",
      "2\n",
      "3\n",
      "4\n",
      "5\n",
      "6\n",
      "7\n",
      "8\n",
      "9\n",
      "10\n"
     ]
    }
   ],
   "source": [
    "i = 1\n",
    "while i < 11:\n",
    "    print(i)\n",
    "    i+=1\n"
   ]
  },
  {
   "cell_type": "markdown",
   "id": "1eb474c5-1e8e-48e9-af1c-963e82124c6d",
   "metadata": {},
   "source": [
    "13.If you had a function named bacon() inside a module named spam, how would you call it after importing spam?\n",
    "\n",
    "ANS: spam.bacon()"
   ]
  }
 ],
 "metadata": {
  "kernelspec": {
   "display_name": "Python 3",
   "language": "python",
   "name": "python3"
  },
  "language_info": {
   "codemirror_mode": {
    "name": "ipython",
    "version": 3
   },
   "file_extension": ".py",
   "mimetype": "text/x-python",
   "name": "python",
   "nbconvert_exporter": "python",
   "pygments_lexer": "ipython3",
   "version": "3.8.8"
  }
 },
 "nbformat": 4,
 "nbformat_minor": 5
}
