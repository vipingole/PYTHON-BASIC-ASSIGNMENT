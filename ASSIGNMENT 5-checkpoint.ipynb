{
 "cells": [
  {
   "cell_type": "markdown",
   "id": "67ef7890",
   "metadata": {},
   "source": [
    "1. What does an empty dictionary's code look like?\n",
    "\n",
    "ans: dict = {}\n",
    "\n",
    "2. What is the value of a dictionary value with the key 'foo' and the value 42?\n",
    "\n",
    "ans: dict= {'foo',42}\n",
    "\n",
    "3. What is the most significant distinction between a dictionary and a list?\n",
    "\n",
    "ans: The items stored in a dictionary are unordered, while the items in a list are ordered.\n",
    "\n",
    "4. What happens if you try to access spam['foo'] if spam is {'bar': 100}?\n",
    "\n",
    "ans: We get an error called as KeyError.\n",
    "\n",
    "5. If a dictionary is stored in spam, what is the difference between the expressions 'cat' in spam and 'cat' in spam.keys()?\n",
    "\n",
    "ans: There is no difference, both 'cat' in spam ans cat in spam.keys() checks whether there is a 'cat' key in the dictionary.\n",
    "\n",
    "6. If a dictionary is stored in spam, what is the difference between the expressions 'cat' in spam and 'cat' in spam.values()?\n",
    "\n",
    "ans: 'cat' in spam checks whether there is a 'cat' key in the dictionary, while 'cat' in spam.values() checks whether there is a value 'cat' for one of the keys in spam.\n",
    "\n",
    "7. What is a shortcut for the following code?\n",
    "if 'color' not in spam:\n",
    "spam['color'] = 'black'\n",
    "\n",
    "ans: spam.setdefault('color','black').\n",
    "\n",
    "8. How do you \"pretty print\" dictionary values using which module and function?\n",
    "\n",
    "ans: module name is 'pprint' and function is pprint().\n",
    "\n",
    "pprint.pprint()\n",
    "\n"
   ]
  }
 ],
 "metadata": {
  "kernelspec": {
   "display_name": "Python 3",
   "language": "python",
   "name": "python3"
  },
  "language_info": {
   "codemirror_mode": {
    "name": "ipython",
    "version": 3
   },
   "file_extension": ".py",
   "mimetype": "text/x-python",
   "name": "python",
   "nbconvert_exporter": "python",
   "pygments_lexer": "ipython3",
   "version": "3.8.8"
  }
 },
 "nbformat": 4,
 "nbformat_minor": 5
}
